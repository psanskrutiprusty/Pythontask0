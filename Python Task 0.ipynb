{
 "cells": [
  {
   "cell_type": "code",
   "execution_count": 3,
   "metadata": {},
   "outputs": [
    {
     "name": "stdout",
     "output_type": "stream",
     "text": [
      "Enter the 1st no: 30\n",
      "Enter the 2nd no: 100\n",
      "The result is 130\n"
     ]
    }
   ],
   "source": [
    "#1.Accept two integer numbers from a user and return their product and if the product is greater than 1000, then return their sum\n",
    "\n",
    "def multiplication_or_sum(num1,num2):\n",
    "    product=num1*num2\n",
    "    if (product <= 1000):\n",
    "        return product\n",
    "    else:\n",
    "        sum=num1+num2\n",
    "        return sum\n",
    "    \n",
    "number1=int(input(\"Enter the 1st no: \"))    \n",
    "number2=int(input(\"Enter the 2nd no: \"))\n",
    "\n",
    "result=multiplication_or_sum(number1,number2)\n",
    "print(\"The result is\", result)"
   ]
  },
  {
   "cell_type": "code",
   "execution_count": 7,
   "metadata": {},
   "outputs": [
    {
     "name": "stdout",
     "output_type": "stream",
     "text": [
      "Enter the no: 8\n",
      "sum of digits from 1 to n is:  36\n"
     ]
    }
   ],
   "source": [
    "#2.Accept n number from user and calculate the sum of all number between 1 and n including n\n",
    "\n",
    "def sum_from1ton(n):\n",
    "    result=0\n",
    "    i=0\n",
    "    while i<=n:\n",
    "        result=result+i\n",
    "        i+=1\n",
    "    return result    \n",
    "\n",
    "n=int(input(\"Enter the no: \"))\n",
    "\n",
    "final_sum=sum_from1ton(n)\n",
    "print(\"sum of digits from 1 to n is: \",final_sum)"
   ]
  },
  {
   "cell_type": "code",
   "execution_count": 2,
   "metadata": {},
   "outputs": [
    {
     "name": "stdout",
     "output_type": "stream",
     "text": [
      "Enter number:8888\n",
      "The number of digits in the number are: 4\n"
     ]
    }
   ],
   "source": [
    "#3.Given a number count the total number of digits in a number\n",
    "\n",
    "def count_digits(n):\n",
    "    count=0\n",
    "    while(n>0):\n",
    "        count=count+1\n",
    "        n=n//10\n",
    "    return count\n",
    "\n",
    "n=int(input(\"Enter number:\"))\n",
    "\n",
    "final_count=count_digits(n)\n",
    "print(\"The number of digits in the number are:\",final_count)"
   ]
  },
  {
   "cell_type": "code",
   "execution_count": 5,
   "metadata": {},
   "outputs": [
    {
     "name": "stdout",
     "output_type": "stream",
     "text": [
      "Enter any string: sanskruti\n",
      "The final even indexed string is:  snkui\n"
     ]
    }
   ],
   "source": [
    "#4.Accept string from a user and display only those characters which are present at an even index number.\n",
    "\n",
    "def even_indexed_characters(n):\n",
    "    l=len(n)\n",
    "    string=n[0:l:2]\n",
    "    return string\n",
    "\n",
    "n=input(\"Enter any string: \")\n",
    "\n",
    "final_string=even_indexed_characters(n)\n",
    "print(\"The final even indexed string is: \",final_string)"
   ]
  },
  {
   "cell_type": "code",
   "execution_count": 5,
   "metadata": {},
   "outputs": [
    {
     "name": "stdout",
     "output_type": "stream",
     "text": [
      "Enter the starting point: 4\n",
      "Enter the ending point: 18\n",
      "Prime no.s are:  [5, 7, 11, 13, 17]\n",
      "Enter any number: 999\n",
      "It is not a prime no.\n"
     ]
    }
   ],
   "source": [
    "#5.Write a python program to print all the prime number in a given interval and also check is a given input number is prime or not.\n",
    "\n",
    "def even_number_in_given_interval(n1,n2):\n",
    "    a=[]\n",
    "    for i in range(n1,n2+1):\n",
    "        for j in range(2,i-1):\n",
    "            if(i%j==0):\n",
    "                break\n",
    "        else:\n",
    "            a.append(i)\n",
    "    return(a)\n",
    "\n",
    "num1=int(input(\"Enter the starting point: \"))\n",
    "num2=int(input(\"Enter the ending point: \"))\n",
    "\n",
    "prime_num=even_number_in_given_interval(num1,num2)\n",
    "print(\"Prime no.s are: \",prime_num)\n",
    "\n",
    "num=int(input(\"Enter any number: \"))\n",
    "if (num==1):\n",
    "    print(\"It is a prime no.\")\n",
    "else:\n",
    "    for i in range(2,num-1):\n",
    "        if(num%i==0):\n",
    "            print(\"It is not a prime no.\")\n",
    "            break\n",
    "    else:\n",
    "        print(\"It is a prime no.\")"
   ]
  },
  {
   "cell_type": "code",
   "execution_count": 11,
   "metadata": {},
   "outputs": [
    {
     "name": "stdout",
     "output_type": "stream",
     "text": [
      "Enter the 1st no: 3\n",
      "Enter the 2nd no: 5\n",
      "Enter upto how many terms: 6\n",
      "The final fibonacci series is:  [3, 5, 8, 13, 21, 34]\n",
      "Enter the no. to be checked: 10\n",
      "10 is not a fibonacci no.\n"
     ]
    }
   ],
   "source": [
    "#6.Write a python program to print the Fibonacci series and also check if a given input number is Fibonacci number or not.\n",
    "\n",
    "def fibonacci_series(n1,n2,n3):\n",
    "    a=[n1,n2]\n",
    "    count=n3\n",
    "    while(count>2):\n",
    "        sum=n1+n2\n",
    "        n1=n2\n",
    "        n2=sum\n",
    "        count-=1\n",
    "        a.append(sum)\n",
    "    return(a)    \n",
    "\n",
    "num1=int(input(\"Enter the 1st no: \"))    \n",
    "num2=int(input(\"Enter the 2nd no: \"))\n",
    "num3=int(input(\"Enter upto how many terms: \"))\n",
    "\n",
    "final_series=fibonacci_series(num1,num2,num3)\n",
    "print(\"The final fibonacci series is: \",final_series)\n",
    "\n",
    "import math\n",
    "def check_perfect_square(x):\n",
    "    s=int(math.sqrt(x)) \n",
    "    return s*s==x\n",
    "\n",
    "def check_fibonacci_no(n):\n",
    "    r1=check_perfect_square(5*n*n+4)\n",
    "    r2=check_perfect_square(5*n*n-4)\n",
    "    return r1 or r2\n",
    "\n",
    "num=int(input(\"Enter the no. to be checked: \"))\n",
    "\n",
    "if (check_fibonacci_no(num)==True):\n",
    "    print(num,\"is a fibonacci no.\")\n",
    "else:\n",
    "    print(num,\"is not a fibonacci no.\")"
   ]
  }
 ],
 "metadata": {
  "kernelspec": {
   "display_name": "Python 3",
   "language": "python",
   "name": "python3"
  },
  "language_info": {
   "codemirror_mode": {
    "name": "ipython",
    "version": 3
   },
   "file_extension": ".py",
   "mimetype": "text/x-python",
   "name": "python",
   "nbconvert_exporter": "python",
   "pygments_lexer": "ipython3",
   "version": "3.7.3"
  }
 },
 "nbformat": 4,
 "nbformat_minor": 2
}
